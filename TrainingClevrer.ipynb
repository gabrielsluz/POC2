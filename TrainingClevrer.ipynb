{
 "cells": [
  {
   "cell_type": "code",
   "execution_count": 3,
   "metadata": {},
   "outputs": [],
   "source": [
    "import matplotlib.pyplot as plt\n",
    "import numpy as np"
   ]
  },
  {
   "cell_type": "markdown",
   "metadata": {},
   "source": [
    "## Cosine Learning Rate Policy\n",
    "https://arxiv.org/pdf/1608.03983.pdf\n"
   ]
  },
  {
   "cell_type": "code",
   "execution_count": 2,
   "metadata": {},
   "outputs": [],
   "source": [
    "import math\n",
    "def lr_func_cosine(cur_epoch, max_epoch, base_lr, end_lr):\n",
    "    \"\"\"\n",
    "    Retrieve the learning rate to specified values at specified epoch with the\n",
    "    cosine learning rate schedule. Details can be found in:\n",
    "    Ilya Loshchilov, and  Frank Hutter\n",
    "    SGDR: Stochastic Gradient Descent With Warm Restarts.\n",
    "    Args:\n",
    "        cfg (CfgNode): configs. Details can be found in\n",
    "            slowfast/config/defaults.py\n",
    "        cur_epoch (float): the number of epoch of the current training stage.\n",
    "    \"\"\"\n",
    "    assert end_lr < base_lr\n",
    "    return (\n",
    "        end_lr\n",
    "        + (base_lr - end_lr)\n",
    "        * (math.cos(math.pi * cur_epoch / max_epoch) + 1.0)\n",
    "        * 0.5\n",
    "    )"
   ]
  },
  {
   "cell_type": "code",
   "execution_count": 30,
   "metadata": {},
   "outputs": [],
   "source": [
    "max_epoch = 5\n",
    "base_lr = 0.1\n",
    "end_lr = 0.00\n",
    "epochs = np.linspace(0,4*max_epoch,320)\n",
    "vec_cosine_lr = np.vectorize(lr_func_cosine)\n",
    "lr_vals = vec_cosine_lr(epochs, max_epoch, base_lr, end_lr)"
   ]
  },
  {
   "cell_type": "code",
   "execution_count": 32,
   "metadata": {},
   "outputs": [
    {
     "data": {
      "image/png": "[encoded data removed]",
      "text/plain": [
       "<Figure size 432x288 with 1 Axes>"
      ]
     },
     "metadata": {
      "needs_background": "light"
     },
     "output_type": "display_data"
    }
   ],
   "source": [
    "fig = plt.figure()\n",
    "ax = plt.axes()\n",
    "\n",
    "ax.plot(epochs, lr_vals);"
   ]
  },
  {
   "cell_type": "code",
   "execution_count": 33,
   "metadata": {},
   "outputs": [],
   "source": [
    "#Updates vocab dict in place from a token list    \n",
    "def update_vocab(vocab, token_list):\n",
    "    for token in token_list:\n",
    "        if token in vocab:\n",
    "            continue\n",
    "        else:\n",
    "            vocab[token] = vocab[' counter ']\n",
    "            vocab[' counter '] += 1\n",
    "            \n",
    "ans_vocab = {} #Used for descriptive questions\n",
    "ans_vocab[' counter '] = 0\n",
    "possible_ans = [\"0\", \"1\", \"2\", \"3\", \"4\", \"5\", \n",
    "            \"yes\", \"no\", \"rubber\", \"metal\",\n",
    "            \"blue\", \"purple\", \"yellow\", \"cyan\"\n",
    "]\n",
    "update_vocab(ans_vocab, possible_ans)"
   ]
  },
  {
   "cell_type": "code",
   "execution_count": 39,
   "metadata": {},
   "outputs": [],
   "source": [
    "import torch\n",
    "def parse_glove_file(file_name, emb_dim, vocab_dict):\n",
    "    \"\"\"\n",
    "    Opens a Glove pretrained embeddings file with embeddings with dimension emb_dim\n",
    "    Builds a matrix vocab_size x emb_dim, compatible with nn.Embedding to be used with vocab_dict\n",
    "    \"\"\"\n",
    "    word_list = []\n",
    "    for word in vocab_dict.keys():\n",
    "        word_list.append(word)\n",
    "    emb_mat = np.zeros((len(vocab_dict), emb_dim))\n",
    "    with open(file_name, 'rb') as f:\n",
    "        for l in f:\n",
    "            line = l.decode().split()\n",
    "            word = line[0]\n",
    "            if not word in vocab_dict:\n",
    "                continue\n",
    "            vect = np.array(line[1:]).astype(np.float)\n",
    "            emb_mat[vocab_dict[word]] = vect\n",
    "            word_list.remove(word)\n",
    "    if len(word_list) > 0:\n",
    "        print(\"Missing following words\")\n",
    "        print(word_list)\n",
    "    return torch.from_numpy(emb_mat)"
   ]
  },
  {
   "cell_type": "code",
   "execution_count": 40,
   "metadata": {},
   "outputs": [
    {
     "name": "stdout",
     "output_type": "stream",
     "text": [
      "Missing following words\n",
      "[' counter ']\n"
     ]
    }
   ],
   "source": [
    "vocab_dict = ans_vocab\n",
    "emb_mat = parse_glove_file(\"/Users/zeba/Desktop/POC/singularity-vm/datasets/word_embs/glove.6B/glove.6B.50d.txt\", 50, vocab_dict)"
   ]
  },
  {
   "cell_type": "code",
   "execution_count": 41,
   "metadata": {},
   "outputs": [
    {
     "data": {
      "text/plain": [
       "tensor([[-2.5990e-01,  7.7356e-01,  3.5438e-01,  1.0866e+00,  4.3132e-01,\n",
       "          5.6912e-01,  8.9467e-01, -2.8327e-01, -9.1370e-01,  3.6018e-01,\n",
       "         -6.0655e-02, -3.4676e-01, -4.5188e-01, -1.8003e+00, -2.8759e-01,\n",
       "         -5.7913e-01,  4.0716e-01, -7.2440e-01, -2.0067e+00,  1.1478e+00,\n",
       "         -1.1683e+00, -1.0050e+00,  1.7780e+00,  1.0412e+00, -8.6130e-01,\n",
       "          4.5145e-02,  1.5059e+00, -2.5119e-01,  7.1285e-01, -6.6814e-01,\n",
       "          2.5142e+00,  1.2941e+00,  1.7046e-02,  3.9161e-01,  6.4801e-01,\n",
       "         -6.8647e-01,  7.1259e-01,  2.1012e-01,  2.8067e-01, -1.0846e-01,\n",
       "          9.3836e-01, -4.7266e-01,  5.6314e-01, -6.5220e-01, -1.0101e+00,\n",
       "          2.3917e+00, -7.7347e-02, -4.6669e-01,  1.3464e+00,  8.1261e-02],\n",
       "        [-3.2313e-01,  8.9266e-01,  5.4943e-01,  5.9294e-01,  5.6707e-01,\n",
       "          3.7888e-01, -3.6071e-02, -1.8445e-01, -6.1020e-01, -2.7874e-01,\n",
       "          1.9870e-01, -1.3458e-01, -1.2000e-01, -8.0437e-01,  6.9032e-01,\n",
       "         -5.6864e-01, -3.7870e-01,  2.2928e-02, -1.6365e+00,  4.3987e-01,\n",
       "          2.8690e-01, -9.9327e-01,  1.2016e+00,  4.0906e-01, -1.0473e+00,\n",
       "         -8.0572e-01,  7.8073e-01, -2.9800e-01,  4.9566e-01, -1.8523e-01,\n",
       "          3.6489e+00,  3.0559e-01, -5.9888e-01,  8.4786e-01,  3.0806e-01,\n",
       "         -4.6975e-01,  5.1175e-01,  4.4654e-01,  8.6962e-01, -8.3334e-01,\n",
       "          9.5202e-01, -6.8141e-01,  5.2714e-01, -9.8410e-01, -6.8455e-01,\n",
       "          1.1837e+00,  1.6568e-01, -3.4587e-01,  4.9963e-01,  4.7765e-01],\n",
       "        [-1.1098e-01,  8.6724e-01,  7.8114e-01,  6.2927e-01,  4.7444e-01,\n",
       "          5.6995e-01, -3.6589e-02, -3.6277e-01, -7.5835e-01, -2.3177e-01,\n",
       "         -3.3863e-02, -1.3799e-01, -2.7332e-01, -4.9268e-01,  6.5304e-01,\n",
       "         -6.5874e-01, -3.7598e-01, -3.5175e-02, -1.7510e+00,  4.2510e-01,\n",
       "          2.7823e-01, -7.0469e-01,  1.4309e+00,  4.7407e-01, -7.9270e-01,\n",
       "         -5.9344e-01,  7.2797e-01, -4.6763e-01,  4.2751e-01, -5.4557e-01,\n",
       "          3.6055e+00,  3.7230e-01, -4.9394e-01,  7.2130e-01,  3.8648e-01,\n",
       "         -1.2074e-01,  5.2277e-01,  1.1091e-01,  7.6881e-01, -7.1368e-01,\n",
       "          7.3664e-01, -5.5640e-01,  5.6538e-01, -1.1565e+00, -3.9394e-01,\n",
       "          1.3017e+00,  2.8281e-01, -6.1752e-01,  5.9103e-01,  2.8649e-01],\n",
       "        [-3.0911e-01,  8.3297e-01,  8.0062e-01,  5.6465e-01,  4.2351e-01,\n",
       "          6.8135e-01, -1.4517e-01, -3.0804e-01, -7.2869e-01, -4.4480e-01,\n",
       "         -3.9224e-03, -3.4766e-01, -2.5331e-01, -4.4646e-01,  5.9499e-01,\n",
       "         -6.7118e-01, -4.7467e-01, -1.6652e-01, -1.7268e+00,  4.5280e-01,\n",
       "          2.0172e-01, -7.9686e-01,  1.2426e+00,  3.2373e-01, -7.3650e-01,\n",
       "         -4.2672e-01,  9.3337e-01, -5.7275e-01,  3.8087e-01, -4.7722e-01,\n",
       "          3.5561e+00,  3.1519e-01, -3.5648e-01,  6.0379e-01,  4.6394e-01,\n",
       "         -2.3267e-01,  5.8278e-01,  2.2066e-01,  7.3519e-01, -5.4679e-01,\n",
       "          4.9996e-01, -6.7417e-01,  6.3789e-01, -1.0965e+00, -5.1352e-01,\n",
       "          1.2085e+00,  2.9816e-01, -7.5945e-01,  5.0245e-01,  3.5659e-01],\n",
       "        [-3.5209e-01,  8.2956e-01,  8.0144e-01,  4.8082e-01,  4.6673e-01,\n",
       "          6.3659e-01, -2.6424e-01, -3.0305e-01, -7.2852e-01, -5.2154e-01,\n",
       "         -1.7715e-01, -5.3938e-01, -2.3303e-01, -2.6814e-01,  7.2069e-01,\n",
       "         -6.6766e-01, -6.0444e-01, -2.2510e-01, -1.6810e+00,  4.2743e-01,\n",
       "          3.8901e-01, -6.2950e-01,  1.3271e+00,  3.7583e-01, -5.8972e-01,\n",
       "         -4.0539e-01,  9.0764e-01, -6.1069e-01,  3.7251e-01, -3.4913e-01,\n",
       "          3.4705e+00,  1.8070e-01, -3.5839e-01,  6.5343e-01,  3.5501e-01,\n",
       "         -3.7921e-01,  6.9662e-01,  2.5318e-01,  6.6238e-01, -4.2780e-01,\n",
       "          3.4738e-01, -5.6578e-01,  6.2090e-01, -1.1136e+00, -5.0829e-01,\n",
       "          1.1522e+00,  1.5462e-01, -8.4043e-01,  3.7147e-01,  4.4275e-01],\n",
       "        [-2.4553e-01,  9.2887e-01,  9.4636e-01,  2.9393e-01,  3.9314e-01,\n",
       "          5.3382e-01, -2.9355e-01, -3.1434e-01, -6.2094e-01, -4.2730e-01,\n",
       "         -2.3509e-01, -5.2062e-01, -9.5535e-02, -3.5160e-01,  8.9212e-01,\n",
       "         -5.4079e-01, -6.7408e-01, -2.7857e-01, -1.5973e+00,  3.8972e-01,\n",
       "          4.4949e-01, -5.8631e-01,  1.1934e+00,  2.1847e-01, -5.2188e-01,\n",
       "         -4.6620e-01,  8.0966e-01, -6.1973e-01,  2.7912e-01, -2.5251e-01,\n",
       "          3.5053e+00,  2.7438e-01, -1.7765e-01,  6.8347e-01,  4.5855e-01,\n",
       "         -4.6349e-01,  6.6540e-01,  2.0135e-01,  5.9170e-01, -4.4234e-01,\n",
       "          2.3723e-01, -4.0514e-01,  7.0945e-01, -9.5255e-01, -5.5746e-01,\n",
       "          9.1859e-01,  1.7705e-01, -7.5177e-01,  4.2187e-01,  4.8225e-01],\n",
       "        [-3.8796e-01,  2.0422e-01,  3.1733e-01, -4.1985e-01,  4.7406e-01,\n",
       "          1.7553e-01, -1.9410e-01, -1.2594e-01, -7.1953e-01,  4.4225e-01,\n",
       "         -5.5738e-01,  1.0750e-01, -8.5845e-02,  3.4874e-02,  6.7770e-01,\n",
       "          2.1648e-01,  3.7139e-01, -1.2235e-01,  1.8711e-01, -5.4820e-01,\n",
       "         -6.4371e-01,  6.5057e-01,  6.5557e-01,  3.0899e-01,  7.4338e-01,\n",
       "         -1.3201e+00, -1.0293e+00,  4.3353e-01,  5.9804e-01, -7.7770e-01,\n",
       "          2.0345e+00,  6.0846e-01, -7.1217e-01,  1.6194e-01, -3.5502e-01,\n",
       "         -8.8659e-01,  6.4039e-01, -2.8944e-01,  3.3333e-02, -4.2632e-01,\n",
       "          9.3074e-02,  5.7111e-02, -1.5413e-01,  9.2241e-02, -3.1447e-01,\n",
       "          4.2796e-01, -5.2473e-01,  3.2362e-01,  1.9870e-01,  9.6321e-01],\n",
       "        [ 3.4957e-01,  4.0147e-01, -1.2561e-02,  1.3743e-01,  4.0080e-01,\n",
       "          4.6682e-01, -9.7430e-02, -2.4548e-03, -3.3564e-01, -4.6390e-03,\n",
       "         -5.9101e-02,  2.7532e-01, -3.9740e-01, -2.9267e-01,  9.7442e-01,\n",
       "          4.1880e-01,  1.8395e-01, -2.0602e-01, -6.1437e-02, -6.1576e-01,\n",
       "         -5.3471e-01,  4.1536e-01,  3.4851e-01, -3.1878e-01,  2.7404e-01,\n",
       "         -1.8320e+00, -8.2363e-01,  4.8816e-01,  1.1372e+00, -3.8025e-01,\n",
       "          3.8114e+00,  2.5510e-01, -7.0637e-01, -2.5820e-01,  4.0929e-02,\n",
       "         -9.7378e-02,  7.9571e-01, -4.9484e-01,  1.0870e-01,  1.4838e-01,\n",
       "         -1.8390e-01,  1.3312e-01,  2.1469e-01,  5.3932e-01, -1.9338e-01,\n",
       "         -4.2216e-01, -6.1411e-01,  7.0374e-01,  5.7591e-01,  4.3506e-01],\n",
       "        [-1.2216e+00, -1.3735e+00, -2.6052e-01,  6.4787e-01, -2.0741e-01,\n",
       "          4.1289e-01,  1.2977e-01, -4.0879e-01,  3.3104e-01, -1.5983e-01,\n",
       "          6.6538e-01, -4.7251e-01,  3.2343e-01,  3.3552e-01, -2.7952e-01,\n",
       "          5.7410e-01,  1.8821e-01,  6.3541e-01, -2.4575e-01, -1.7556e+00,\n",
       "          5.5598e-01, -1.4225e-01,  2.1492e-01, -1.2300e+00, -5.1975e-01,\n",
       "         -3.8616e-01,  1.3759e-01,  7.6834e-01,  4.8954e-01, -7.5824e-01,\n",
       "          2.4071e+00, -4.9735e-01, -1.2395e-01,  1.3956e+00, -6.0214e-03,\n",
       "          8.0227e-01,  5.2459e-01,  3.1092e-01,  5.1763e-01, -9.7327e-02,\n",
       "         -2.6600e-01, -1.5259e-01,  1.1437e-01,  1.8151e-02,  1.6551e+00,\n",
       "         -1.3647e-01, -3.1476e-01, -5.7809e-01,  1.0364e-01, -1.2374e+00],\n",
       "        [-9.7467e-01,  1.7701e-01,  5.5721e-01, -6.1392e-02,  1.3516e-01,\n",
       "          9.0557e-01,  1.1298e-01, -8.3015e-02, -1.9704e-01,  6.0241e-01,\n",
       "          8.1914e-01, -3.9332e-02, -1.8959e-01,  1.6839e+00, -4.0624e-01,\n",
       "          5.5594e-01,  4.4263e-01,  1.6115e-01, -3.5466e-01, -1.6592e+00,\n",
       "          1.3298e+00, -5.1587e-01,  4.5646e-02, -3.8681e-01, -7.2316e-01,\n",
       "         -3.4138e-01, -1.1071e+00,  8.7466e-01,  7.4086e-01, -4.7313e-01,\n",
       "          2.8302e+00, -1.3763e+00,  8.5465e-01,  1.6082e-01, -8.7585e-04,\n",
       "          9.2728e-01,  9.4742e-01, -3.7689e-01,  5.8434e-01, -2.6297e-02,\n",
       "          3.1892e-01, -4.7993e-01,  1.7084e-01, -3.4040e-01,  1.3925e+00,\n",
       "          8.9684e-04, -4.2405e-02, -7.5443e-01, -2.7104e-01, -1.4451e+00],\n",
       "        [-8.3751e-01,  6.9563e-01, -5.1408e-01,  2.3689e-01,  5.9192e-01,\n",
       "         -2.7491e-02, -1.2076e+00, -9.8796e-01, -2.7658e-01, -4.6180e-01,\n",
       "          4.7150e-01,  1.3072e-01,  5.0393e-01,  5.0556e-01, -6.6766e-01,\n",
       "          6.9073e-02, -6.0984e-01, -2.2776e-01, -1.2481e+00, -1.3521e+00,\n",
       "         -5.6051e-01, -1.7952e-01,  2.2886e-01, -6.9244e-01, -1.1734e+00,\n",
       "         -9.8778e-01, -8.1551e-01,  1.5513e+00,  3.6517e-01, -1.1162e+00,\n",
       "          2.6320e+00,  2.1987e-01,  1.0695e-01,  2.8438e-01, -1.0348e-01,\n",
       "         -2.9667e-01, -1.7645e-01, -7.5838e-01,  8.5523e-02, -8.3641e-01,\n",
       "         -1.2174e-01, -6.3165e-02, -7.2053e-02, -3.0712e-01,  6.1861e-01,\n",
       "         -3.0867e-01,  1.2374e-02, -1.1966e+00,  4.1525e-02, -2.3966e-01],\n",
       "        [-5.1244e-01,  1.3755e+00, -1.0203e+00, -1.6129e-01,  4.6391e-01,\n",
       "          5.2021e-01, -1.2554e-01, -9.2437e-01, -2.8947e-01, -1.4339e-01,\n",
       "          3.3583e-01,  2.5146e-01,  1.0219e+00, -1.2813e-01, -3.9856e-01,\n",
       "         -7.6474e-02, -6.9752e-01,  2.0905e-01, -9.2861e-01, -9.8031e-01,\n",
       "         -1.0163e+00, -5.0338e-01,  1.1099e+00, -1.0460e+00, -8.7251e-01,\n",
       "         -4.7121e-01, -8.3320e-01,  1.7418e+00,  4.3909e-01, -1.2089e+00,\n",
       "          1.4610e+00,  3.1565e-01, -3.0330e-01,  3.2728e-02, -1.7728e-01,\n",
       "          4.9368e-01, -2.7891e-03, -3.5415e-01, -2.7876e-01, -6.2239e-01,\n",
       "          9.4379e-02,  1.7213e-03, -6.8539e-01, -8.1577e-01,  1.0079e+00,\n",
       "         -2.4380e-01, -2.2043e-03, -1.4059e+00, -4.3023e-01, -5.6384e-01],\n",
       "        [-1.8063e-01,  7.6194e-01, -5.3856e-01,  7.8220e-02,  3.4890e-01,\n",
       "          3.8896e-01, -5.1983e-01, -6.6888e-01,  2.6164e-01, -6.0095e-01,\n",
       "          3.9925e-01, -9.3446e-02,  6.7184e-01,  1.1413e-02, -2.4516e-01,\n",
       "         -5.2065e-01, -6.7089e-01, -2.1113e-01, -8.9741e-01, -1.4743e+00,\n",
       "         -1.2168e+00, -1.0192e+00,  8.2260e-01, -3.7338e-01, -5.3138e-01,\n",
       "         -8.0159e-01, -1.5924e-01,  1.9076e+00,  3.1224e-01, -8.3472e-01,\n",
       "          2.2394e+00,  3.1135e-01, -2.1577e-01,  1.7477e-01, -1.5223e-01,\n",
       "          4.9880e-01, -4.0134e-02, -8.3109e-02, -3.8235e-01, -3.7043e-01,\n",
       "          5.0065e-01,  3.3966e-01, -3.1732e-01, -5.5932e-01,  1.0067e+00,\n",
       "         -2.6329e-01,  2.6995e-01, -1.0854e+00,  4.7641e-01, -1.1853e+00],\n",
       "        [-3.2048e-01,  5.0699e-02, -6.7888e-01,  1.4638e+00,  7.3819e-02,\n",
       "          2.5944e-01, -2.5337e-01, -1.0732e+00, -3.2311e-01,  1.5450e-01,\n",
       "          1.0719e+00,  4.8536e-01, -5.0088e-02, -3.7445e-01, -4.3968e-01,\n",
       "         -5.2964e-01, -7.9727e-01,  3.1603e-01, -2.4474e-01, -9.6312e-01,\n",
       "         -7.7385e-01, -4.6958e-01,  1.1777e+00, -1.3742e-02, -4.5793e-01,\n",
       "          1.0647e+00,  1.0519e-01,  1.0471e+00,  4.7963e-01, -1.1948e+00,\n",
       "         -5.5403e-01,  1.2998e-01, -7.6082e-01, -8.7984e-01, -6.1657e-01,\n",
       "         -6.9926e-02, -1.4858e+00,  8.7361e-02, -5.8454e-02, -1.7051e-01,\n",
       "          8.5686e-01, -8.4142e-01, -2.3033e-01, -5.9445e-01,  1.8046e-01,\n",
       "         -2.2243e-01,  9.7699e-01, -5.2327e-01,  2.9951e-01, -7.0397e-01],\n",
       "        [ 0.0000e+00,  0.0000e+00,  0.0000e+00,  0.0000e+00,  0.0000e+00,\n",
       "          0.0000e+00,  0.0000e+00,  0.0000e+00,  0.0000e+00,  0.0000e+00,\n",
       "          0.0000e+00,  0.0000e+00,  0.0000e+00,  0.0000e+00,  0.0000e+00,\n",
       "          0.0000e+00,  0.0000e+00,  0.0000e+00,  0.0000e+00,  0.0000e+00,\n",
       "          0.0000e+00,  0.0000e+00,  0.0000e+00,  0.0000e+00,  0.0000e+00,\n",
       "          0.0000e+00,  0.0000e+00,  0.0000e+00,  0.0000e+00,  0.0000e+00,\n",
       "          0.0000e+00,  0.0000e+00,  0.0000e+00,  0.0000e+00,  0.0000e+00,\n",
       "          0.0000e+00,  0.0000e+00,  0.0000e+00,  0.0000e+00,  0.0000e+00,\n",
       "          0.0000e+00,  0.0000e+00,  0.0000e+00,  0.0000e+00,  0.0000e+00,\n",
       "          0.0000e+00,  0.0000e+00,  0.0000e+00,  0.0000e+00,  0.0000e+00]],\n",
       "       dtype=torch.float64)"
      ]
     },
     "execution_count": 41,
     "metadata": {},
     "output_type": "execute_result"
    }
   ],
   "source": [
    "emb_mat"
   ]
  },
  {
   "cell_type": "markdown",
   "metadata": {},
   "source": [
    "## Plot the top1_err val and train loss"
   ]
  },
  {
   "cell_type": "code",
   "execution_count": 55,
   "metadata": {},
   "outputs": [],
   "source": [
    "import matplotlib.pyplot as plt\n",
    "def plot_stats(stats_file):\n",
    "    #Printing epochs for now\n",
    "    train_epoch = []\n",
    "    train_loss = []\n",
    "    val_epoch = []\n",
    "    val_top1_err = []\n",
    "    with open(stats_file, \"r\") as f:\n",
    "        for line in f:\n",
    "            d = eval(line)\n",
    "            if d['_type'] == 'train_epoch':\n",
    "                train_loss.append(d['loss'])\n",
    "                train_epoch.append(d['epoch'].split('/')[0])\n",
    "            if d['_type'] == 'val_epoch':\n",
    "                val_top1_err.append(d['top1_err'])\n",
    "                val_epoch.append(d['epoch'].split('/')[0])\n",
    "    \n",
    "    plt.plot(train_epoch, train_loss)\n",
    "    plt.show()\n",
    "    plt.plot(val_epoch, val_top1_err)\n",
    "    plt.show()\n",
    "    "
   ]
  },
  {
   "cell_type": "code",
   "execution_count": 56,
   "metadata": {},
   "outputs": [
    {
     "data": {
      "image/png": "[encoded data removed]",
      "text/plain": [
       "<Figure size 432x288 with 1 Axes>"
      ]
     },
     "metadata": {
      "needs_background": "light"
     },
     "output_type": "display_data"
    },
    {
     "data": {
      "image/png": "[encoded data removed]",
      "text/plain": [
       "<Figure size 432x288 with 1 Axes>"
      ]
     },
     "metadata": {
      "needs_background": "light"
     },
     "output_type": "display_data"
    }
   ],
   "source": [
    "plot_stats(\"/Users/zeba/Desktop/POC/singularity-vm/datasets/SlowFast/train_stats.txt\")"
   ]
  },
  {
   "cell_type": "code",
   "execution_count": null,
   "metadata": {},
   "outputs": [],
   "source": []
  }
 ],
 "metadata": {
  "kernelspec": {
   "display_name": "Python 3",
   "language": "python",
   "name": "python3"
  },
  "language_info": {
   "codemirror_mode": {
    "name": "ipython",
    "version": 3
   },
   "file_extension": ".py",
   "mimetype": "text/x-python",
   "name": "python",
   "nbconvert_exporter": "python",
   "pygments_lexer": "ipython3",
   "version": "3.7.3"
  }
 },
 "nbformat": 4,
 "nbformat_minor": 2
}
